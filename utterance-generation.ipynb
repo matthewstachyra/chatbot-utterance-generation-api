{
 "cells": [
  {
   "cell_type": "markdown",
   "id": "eb042e1f",
   "metadata": {},
   "source": [
    "# Utterance generation prototype notebook\n",
    "Author: Matthew Stachyra <br>\n",
    "Date: 16 June 2022 <br>\n",
    "Version: 0.1 - prototyping 3 approaches"
   ]
  },
  {
   "cell_type": "markdown",
   "id": "773341b8",
   "metadata": {},
   "source": [
    "## *Approach 1:* replacement with similar words\n",
    "Note: This can be used to generate very similar sentences with similar structure. They may also be used for the machine learning in approaches 2 and 3 below."
   ]
  },
  {
   "cell_type": "markdown",
   "id": "c2eb5f34",
   "metadata": {},
   "source": [
    "### Subproblems\n",
    "1. generate similar words\n",
    "2. identify which words to replace in an utterance\n",
    "3. replace words in utterance one at a time and generate new set"
   ]
  },
  {
   "cell_type": "code",
   "execution_count": 165,
   "id": "25d7d3fb",
   "metadata": {},
   "outputs": [
    {
     "name": "stderr",
     "output_type": "stream",
     "text": [
      "[nltk_data] Downloading package wordnet to\n",
      "[nltk_data]     /Users/matthewstachyra/nltk_data...\n",
      "[nltk_data]   Package wordnet is already up-to-date!\n",
      "[nltk_data] Downloading package omw-1.4 to\n",
      "[nltk_data]     /Users/matthewstachyra/nltk_data...\n",
      "[nltk_data]   Package omw-1.4 is already up-to-date!\n"
     ]
    }
   ],
   "source": [
    "import nltk\n",
    "nltk.download('wordnet')\n",
    "nltk.download('omw-1.4')\n",
    "from nltk.corpus import wordnet as wn\n",
    "import itertools\n",
    "import spacy\n",
    "nlp = spacy.load(\"en_core_web_sm\")"
   ]
  },
  {
   "cell_type": "markdown",
   "id": "8e59cde8",
   "metadata": {},
   "source": [
    "#### 1. generate similar words"
   ]
  },
  {
   "cell_type": "markdown",
   "id": "9204050f",
   "metadata": {},
   "source": [
    "##### using `nltk.corpus.wordnet.synsets` and `spacy` part of speech tagging\n",
    "nltk doc: https://www.nltk.org/howto/wordnet.html <br>\n",
    "spacy doc: https://spacy.io/usage/linguistic-features#pos-tagging <br>\n",
    "pos tags used in spacy: https://universaldependencies.org/u/pos/ <br>"
   ]
  },
  {
   "cell_type": "code",
   "execution_count": 146,
   "id": "063d40cb",
   "metadata": {},
   "outputs": [],
   "source": [
    "posmap = {'VERB':'v', 'NOUN':'n', 'PRON':'n', 'PROPN':'n', 'ADJ':'a', 'ADV':'r'}\n",
    "\n",
    "def get_pos(word, utterance):\n",
    "    '''return the part of speech of the word in the utterance if it is a verb\n",
    "    noun, pronoun, proper noun, adjective, or adverb.\n",
    "    '''\n",
    "    pos = next(filter(lambda x : str(x[0])==word,\n",
    "                      [(word, word.pos_)\n",
    "                       for word in nlp(utterance)]))[1]\n",
    "    if pos in posmap: \n",
    "        return posmap[pos]\n",
    "    else: \n",
    "        return None\n",
    "        \n",
    "\n",
    "def get_synonyms(word, pos):\n",
    "    '''return synonyms given a word if its part of speech is a verb, noun, adverb,\n",
    "    or adjective.\n",
    "    '''\n",
    "    if pos not in ['v', 'n', 'r', 'a']: return # nothing if not a verb, noun, adjective, or adverb\n",
    "    return set(\n",
    "            list(\n",
    "                itertools.chain(\n",
    "                    [synonym\n",
    "                     for synset in wn.synsets(word, pos=pos)\n",
    "                     for synonym in synset.lemma_names()])))"
   ]
  },
  {
   "cell_type": "code",
   "execution_count": 148,
   "id": "a72f317d",
   "metadata": {},
   "outputs": [
    {
     "data": {
      "text/plain": [
       "{'chase',\n",
       " 'chase_after',\n",
       " 'dog',\n",
       " 'give_chase',\n",
       " 'go_after',\n",
       " 'tag',\n",
       " 'tail',\n",
       " 'track',\n",
       " 'trail'}"
      ]
     },
     "execution_count": 148,
     "metadata": {},
     "output_type": "execute_result"
    }
   ],
   "source": [
    "generate_synonyms(\"dog\", \"v\")"
   ]
  },
  {
   "cell_type": "code",
   "execution_count": 168,
   "id": "f0bbbdc0",
   "metadata": {},
   "outputs": [
    {
     "name": "stdout",
     "output_type": "stream",
     "text": [
      "NOUN\n",
      "yes\n",
      "{'mental_test', 'mental_testing', 'tryout', 'test', 'run', 'examination', 'trial_run', 'psychometric_test', 'trial', 'exam'}\n"
     ]
    }
   ],
   "source": [
    "sometext = \"This is a test sentence.\"\n",
    "print(get_synonyms(\"test\", get_pos(\"test\", sometext)))"
   ]
  },
  {
   "cell_type": "markdown",
   "id": "ec420d71",
   "metadata": {},
   "source": [
    "#### 2. select which words to replace \n",
    "Note: only replacing nouns, verbs, pronouns, proper nouns, adjectives, and adverbs <br>\n",
    "spacy doc: https://spacy.io/usage/linguistic-features#pos-tagging"
   ]
  },
  {
   "cell_type": "markdown",
   "id": "6742463b",
   "metadata": {},
   "source": [
    "##### using `spacy`"
   ]
  },
  {
   "cell_type": "code",
   "execution_count": 169,
   "id": "b6e6158a",
   "metadata": {},
   "outputs": [
    {
     "name": "stdout",
     "output_type": "stream",
     "text": [
      "PRON\n",
      "AUX\n",
      "DET\n",
      "NOUN\n",
      "NOUN\n",
      "PUNCT\n"
     ]
    }
   ],
   "source": [
    "for word in nlp(sometext):\n",
    "    print(word.pos_)"
   ]
  },
  {
   "cell_type": "code",
   "execution_count": 174,
   "id": "49283613",
   "metadata": {},
   "outputs": [
    {
     "name": "stdout",
     "output_type": "stream",
     "text": [
      "NOUN\n",
      "yes\n"
     ]
    },
    {
     "data": {
      "text/plain": [
       "'n'"
      ]
     },
     "execution_count": 174,
     "metadata": {},
     "output_type": "execute_result"
    }
   ],
   "source": [
    "get_pos(\"test\", sometext)"
   ]
  },
  {
   "cell_type": "code",
   "execution_count": 182,
   "id": "d28f3371",
   "metadata": {},
   "outputs": [],
   "source": [
    "def map_synonyms(utterance):\n",
    "    '''return map of words to synonyms for words that will be replaced in\n",
    "    the utterance, i.e., those words that are nouns, verbs, pronouns, proper\n",
    "    nouns, adjectives, and adverbs.\n",
    "    '''\n",
    "#     wordpos = [(word, get_pos(word, utterance))\n",
    "#                for word in utterance.split()]\n",
    "    \n",
    "#     print(wordpos)\n",
    "    for word in utterance.split():\n",
    "        pos = get_pos(word, utterance)\n",
    "        print(word, pos)\n",
    "    \n",
    "#     for tup in wordpos:\n",
    "#         if tup[1] in posmap:\n",
    "#             s = get_synonyms(tup[0], tup[1])\n",
    "#     return {tup[1] : get_synonyms(tup[0], tup[1]) \n",
    "#             for tup in wordpos\n",
    "#             if tup[1] in posmap}"
   ]
  },
  {
   "cell_type": "code",
   "execution_count": 183,
   "id": "0317fd3d",
   "metadata": {},
   "outputs": [
    {
     "name": "stdout",
     "output_type": "stream",
     "text": [
      "PRON\n",
      "yes\n",
      "This n\n",
      "AUX\n",
      "is None\n",
      "DET\n",
      "a None\n",
      "NOUN\n",
      "yes\n",
      "test n\n"
     ]
    },
    {
     "ename": "StopIteration",
     "evalue": "",
     "output_type": "error",
     "traceback": [
      "\u001b[0;31m---------------------------------------------------------------------------\u001b[0m",
      "\u001b[0;31mStopIteration\u001b[0m                             Traceback (most recent call last)",
      "Input \u001b[0;32mIn [183]\u001b[0m, in \u001b[0;36m<cell line: 1>\u001b[0;34m()\u001b[0m\n\u001b[0;32m----> 1\u001b[0m \u001b[43mmap_synonyms\u001b[49m\u001b[43m(\u001b[49m\u001b[43msometext\u001b[49m\u001b[43m)\u001b[49m\n",
      "Input \u001b[0;32mIn [182]\u001b[0m, in \u001b[0;36mmap_synonyms\u001b[0;34m(utterance)\u001b[0m\n\u001b[1;32m      6\u001b[0m \u001b[38;5;66;03m#     wordpos = [(word, get_pos(word, utterance))\u001b[39;00m\n\u001b[1;32m      7\u001b[0m \u001b[38;5;66;03m#                for word in utterance.split()]\u001b[39;00m\n\u001b[1;32m      8\u001b[0m     \n\u001b[1;32m      9\u001b[0m \u001b[38;5;66;03m#     print(wordpos)\u001b[39;00m\n\u001b[1;32m     10\u001b[0m     \u001b[38;5;28;01mfor\u001b[39;00m word \u001b[38;5;129;01min\u001b[39;00m utterance\u001b[38;5;241m.\u001b[39msplit():\n\u001b[0;32m---> 11\u001b[0m         pos \u001b[38;5;241m=\u001b[39m \u001b[43mget_pos\u001b[49m\u001b[43m(\u001b[49m\u001b[43mword\u001b[49m\u001b[43m,\u001b[49m\u001b[43m \u001b[49m\u001b[43mutterance\u001b[49m\u001b[43m)\u001b[49m\n\u001b[1;32m     12\u001b[0m         \u001b[38;5;28mprint\u001b[39m(word, pos)\n",
      "Input \u001b[0;32mIn [146]\u001b[0m, in \u001b[0;36mget_pos\u001b[0;34m(word, utterance)\u001b[0m\n\u001b[1;32m      3\u001b[0m \u001b[38;5;28;01mdef\u001b[39;00m \u001b[38;5;21mget_pos\u001b[39m(word, utterance):\n\u001b[1;32m      4\u001b[0m     \u001b[38;5;124;03m'''return the part of speech of the word in the utterance if it is a verb\u001b[39;00m\n\u001b[1;32m      5\u001b[0m \u001b[38;5;124;03m    noun, pronoun, proper noun, adjective, or adverb.\u001b[39;00m\n\u001b[1;32m      6\u001b[0m \u001b[38;5;124;03m    '''\u001b[39;00m\n\u001b[0;32m----> 7\u001b[0m     pos \u001b[38;5;241m=\u001b[39m \u001b[38;5;28;43mnext\u001b[39;49m\u001b[43m(\u001b[49m\u001b[38;5;28;43mfilter\u001b[39;49m\u001b[43m(\u001b[49m\u001b[38;5;28;43;01mlambda\u001b[39;49;00m\u001b[43m \u001b[49m\u001b[43mx\u001b[49m\u001b[43m \u001b[49m\u001b[43m:\u001b[49m\u001b[43m \u001b[49m\u001b[38;5;28;43mstr\u001b[39;49m\u001b[43m(\u001b[49m\u001b[43mx\u001b[49m\u001b[43m[\u001b[49m\u001b[38;5;241;43m0\u001b[39;49m\u001b[43m]\u001b[49m\u001b[43m)\u001b[49m\u001b[38;5;241;43m==\u001b[39;49m\u001b[43mword\u001b[49m\u001b[43m,\u001b[49m\n\u001b[1;32m      8\u001b[0m \u001b[43m                      \u001b[49m\u001b[43m[\u001b[49m\u001b[43m(\u001b[49m\u001b[43mword\u001b[49m\u001b[43m,\u001b[49m\u001b[43m \u001b[49m\u001b[43mword\u001b[49m\u001b[38;5;241;43m.\u001b[39;49m\u001b[43mpos_\u001b[49m\u001b[43m)\u001b[49m\n\u001b[1;32m      9\u001b[0m \u001b[43m                       \u001b[49m\u001b[38;5;28;43;01mfor\u001b[39;49;00m\u001b[43m \u001b[49m\u001b[43mword\u001b[49m\u001b[43m \u001b[49m\u001b[38;5;129;43;01min\u001b[39;49;00m\u001b[43m \u001b[49m\u001b[43mnlp\u001b[49m\u001b[43m(\u001b[49m\u001b[43mutterance\u001b[49m\u001b[43m)\u001b[49m\u001b[43m]\u001b[49m\u001b[43m)\u001b[49m\u001b[43m)\u001b[49m[\u001b[38;5;241m1\u001b[39m]\n\u001b[1;32m     10\u001b[0m     \u001b[38;5;28mprint\u001b[39m(pos)\n\u001b[1;32m     11\u001b[0m     \u001b[38;5;28;01mif\u001b[39;00m pos \u001b[38;5;129;01min\u001b[39;00m posmap: \n",
      "\u001b[0;31mStopIteration\u001b[0m: "
     ]
    }
   ],
   "source": [
    "map_synonyms(sometext)"
   ]
  },
  {
   "cell_type": "markdown",
   "id": "2bcf75f9",
   "metadata": {},
   "source": [
    "## *Approach 2:* text generation of similar sentences using GANs"
   ]
  },
  {
   "cell_type": "code",
   "execution_count": null,
   "id": "e1f1385a",
   "metadata": {},
   "outputs": [],
   "source": []
  },
  {
   "cell_type": "code",
   "execution_count": null,
   "id": "3b82b273",
   "metadata": {},
   "outputs": [],
   "source": []
  },
  {
   "cell_type": "code",
   "execution_count": null,
   "id": "d8c67f3a",
   "metadata": {},
   "outputs": [],
   "source": []
  },
  {
   "cell_type": "markdown",
   "id": "9204a16d",
   "metadata": {},
   "source": [
    "## *Approach 3:* text generation of fixed length, similar sentences using BERT"
   ]
  },
  {
   "cell_type": "code",
   "execution_count": null,
   "id": "b19a194e",
   "metadata": {},
   "outputs": [],
   "source": []
  },
  {
   "cell_type": "code",
   "execution_count": null,
   "id": "1a084dec",
   "metadata": {},
   "outputs": [],
   "source": []
  },
  {
   "cell_type": "code",
   "execution_count": null,
   "id": "6e4aad91",
   "metadata": {},
   "outputs": [],
   "source": []
  }
 ],
 "metadata": {
  "kernelspec": {
   "display_name": "Python 3 (ipykernel)",
   "language": "python",
   "name": "python3"
  },
  "language_info": {
   "codemirror_mode": {
    "name": "ipython",
    "version": 3
   },
   "file_extension": ".py",
   "mimetype": "text/x-python",
   "name": "python",
   "nbconvert_exporter": "python",
   "pygments_lexer": "ipython3",
   "version": "3.9.13"
  }
 },
 "nbformat": 4,
 "nbformat_minor": 5
}
