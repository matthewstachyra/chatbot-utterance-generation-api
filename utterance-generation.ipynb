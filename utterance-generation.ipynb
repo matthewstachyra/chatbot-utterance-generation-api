{
 "cells": [
  {
   "cell_type": "markdown",
   "id": "eb042e1f",
   "metadata": {},
   "source": [
    "# Utterance generation prototype notebook\n",
    "Author: Matthew Stachyra <br>\n",
    "Date: 16 June 2022 <br>\n",
    "Version: 0.1 - prototyping 3 approaches"
   ]
  },
  {
   "cell_type": "markdown",
   "id": "773341b8",
   "metadata": {},
   "source": [
    "## *Approach 1:* replacement with similar words\n",
    "Note: This can be used to generate very similar sentences with similar structure. They may also be used for the machine learning in approaches 2 and 3 below."
   ]
  },
  {
   "cell_type": "markdown",
   "id": "c2eb5f34",
   "metadata": {},
   "source": [
    "### Subproblems\n",
    "1. generate similar words\n",
    "2. identify which words to replace in an utterance\n",
    "3. replace words in utterance one at a time and generate new set"
   ]
  },
  {
   "cell_type": "code",
   "execution_count": 26,
   "id": "25d7d3fb",
   "metadata": {},
   "outputs": [
    {
     "name": "stderr",
     "output_type": "stream",
     "text": [
      "[nltk_data] Downloading package wordnet to\n",
      "[nltk_data]     /Users/matthewstachyra/nltk_data...\n",
      "[nltk_data]   Package wordnet is already up-to-date!\n",
      "[nltk_data] Downloading package omw-1.4 to\n",
      "[nltk_data]     /Users/matthewstachyra/nltk_data...\n",
      "[nltk_data]   Package omw-1.4 is already up-to-date!\n"
     ]
    }
   ],
   "source": [
    "import nltk\n",
    "from nltk.corpus import wordnet as wn\n",
    "from nltk.tokenize import RegexpTokenizer\n",
    "from nltk.stem import WordNetLemmatizer,PorterStemmer\n",
    "from nltk.corpus import stopwords\n",
    "nltk.download('wordnet')\n",
    "nltk.download('omw-1.4')\n",
    "\n",
    "import spacy\n",
    "nlp = spacy.load(\"en_core_web_sm\")\n",
    "\n",
    "import re\n",
    "lemmatizer = WordNetLemmatizer()\n",
    "stemmer = PorterStemmer() \n",
    "\n",
    "import itertools"
   ]
  },
  {
   "cell_type": "markdown",
   "id": "8e59cde8",
   "metadata": {},
   "source": [
    "#### 1. generate similar words"
   ]
  },
  {
   "cell_type": "markdown",
   "id": "9204050f",
   "metadata": {},
   "source": [
    "##### using `nltk.corpus.wordnet.synsets` and `spacy` part of speech tagging\n",
    "nltk doc: https://www.nltk.org/howto/wordnet.html <br>\n",
    "spacy doc: https://spacy.io/usage/linguistic-features#pos-tagging <br>\n",
    "pos tags used in spacy: https://universaldependencies.org/u/pos/ <br>"
   ]
  },
  {
   "cell_type": "code",
   "execution_count": 60,
   "id": "063d40cb",
   "metadata": {},
   "outputs": [],
   "source": [
    "posmap = {'VERB':'v', 'NOUN':'n', 'PRON':'n', 'PROPN':'n', 'ADJ':'a', 'ADV':'r'}\n",
    "\n",
    "def preprocess(utterance):\n",
    "    '''return list of words in utterance preprocessed to be lower case, removing any non \n",
    "    alphabetic characters, removing words less than 2 characters, removing \n",
    "    '''\n",
    "    utterance = utterance.lower()\n",
    "    cleanr = re.compile('<.*?>')\n",
    "    cleantext = re.sub(cleanr, '', utterance)\n",
    "    rem_num = re.sub('[0-9]+', '', cleantext)\n",
    "    tokenizer = RegexpTokenizer(r'\\w+')\n",
    "    return \" \".join(tokenizer.tokenize(rem_num))\n",
    "\n",
    "\n",
    "def get_pos(word, utterance):\n",
    "    '''return the part of speech of the word in the utterance if it is a verb\n",
    "    noun, pronoun, proper noun, adjective, or adverb.\n",
    "    '''\n",
    "    if word not in utterance: raise ValueError(\"Error: The word is not in the utterance.\")\n",
    "    pos = next(filter(lambda x : str(x[0])==word,\n",
    "                      [(word, word.pos_)\n",
    "                       for word in nlp(utterance)]))[1]\n",
    "    print(pos)\n",
    "    if pos in posmap: \n",
    "        return posmap[pos]\n",
    "    else: \n",
    "        return None\n",
    "        \n",
    "\n",
    "def get_synonyms(word, pos):\n",
    "    '''return synonyms given a word if its part of speech is a verb, noun, adverb,\n",
    "    or adjective.\n",
    "    \n",
    "    Note: it is necessary to pass in the pos to get the relevant kind of synonym.\n",
    "    '''\n",
    "    if pos not in ['v', 'n', 'r', 'a']: return # nothing if not a verb, noun, adjective, or adverb\n",
    "    return set(\n",
    "            list(\n",
    "                itertools.chain(\n",
    "                    [synonym\n",
    "                     for synset in wn.synsets(word, pos=pos)\n",
    "                     for synonym in synset.lemma_names()])))"
   ]
  },
  {
   "cell_type": "code",
   "execution_count": 61,
   "id": "8dc3f779",
   "metadata": {},
   "outputs": [],
   "source": [
    "sometext = \"Will I need to go to the doctor again next Monday?\""
   ]
  },
  {
   "cell_type": "code",
   "execution_count": 62,
   "id": "2e95fbb9",
   "metadata": {},
   "outputs": [
    {
     "data": {
      "text/plain": [
       "'will i need to go to the doctor again next monday'"
      ]
     },
     "execution_count": 62,
     "metadata": {},
     "output_type": "execute_result"
    }
   ],
   "source": [
    "preprocess(sometext)"
   ]
  },
  {
   "cell_type": "code",
   "execution_count": 63,
   "id": "a72f317d",
   "metadata": {
    "scrolled": true
   },
   "outputs": [
    {
     "data": {
      "text/plain": [
       "{'ask',\n",
       " 'call_for',\n",
       " 'demand',\n",
       " 'involve',\n",
       " 'necessitate',\n",
       " 'need',\n",
       " 'postulate',\n",
       " 'require',\n",
       " 'take',\n",
       " 'want'}"
      ]
     },
     "execution_count": 63,
     "metadata": {},
     "output_type": "execute_result"
    }
   ],
   "source": [
    "get_synonyms('need', 'v')"
   ]
  },
  {
   "cell_type": "code",
   "execution_count": 64,
   "id": "f0bbbdc0",
   "metadata": {
    "scrolled": true
   },
   "outputs": [
    {
     "name": "stdout",
     "output_type": "stream",
     "text": [
      "VERB\n",
      "{'exit', 'hold_up', 'pop_off', 'rifle', 'extend', 'last', 'plump', 'pass', 'get_going', 'die', 'belong', 'break_down', 'live_on', 'function', 'lead', 'give-up_the_ghost', 'travel', 'survive', 'live', 'operate', 'depart', \"cash_in_one's_chips\", 'drop_dead', 'fit', 'conk', 'blend', 'run', 'run_short', 'perish', 'go_bad', 'move', 'snuff_it', 'decease', 'go_away', 'give_out', 'become', 'fail', 'blend_in', 'work', 'go', 'sound', 'get', 'pass_away', 'conk_out', 'expire', 'buy_the_farm', 'endure', 'start', 'give_way', 'hold_out', 'locomote', 'kick_the_bucket', 'run_low', 'choke', 'proceed', 'croak', 'break'}\n"
     ]
    }
   ],
   "source": [
    "print(get_synonyms('go', get_pos('go', sometext)))"
   ]
  },
  {
   "cell_type": "markdown",
   "id": "ec420d71",
   "metadata": {},
   "source": [
    "#### 2. select which words to replace \n",
    "Note: only replacing nouns, verbs, pronouns, proper nouns, adjectives, and adverbs <br>\n",
    "spacy doc: https://spacy.io/usage/linguistic-features#pos-tagging"
   ]
  },
  {
   "cell_type": "markdown",
   "id": "6742463b",
   "metadata": {},
   "source": [
    "##### using `spacy`"
   ]
  },
  {
   "cell_type": "code",
   "execution_count": 20,
   "id": "b6e6158a",
   "metadata": {},
   "outputs": [
    {
     "name": "stdout",
     "output_type": "stream",
     "text": [
      "PRON\n",
      "AUX\n",
      "DET\n",
      "NOUN\n",
      "NOUN\n",
      "PUNCT\n"
     ]
    }
   ],
   "source": [
    "for word in nlp(sometext):\n",
    "    print(word.pos_)"
   ]
  },
  {
   "cell_type": "code",
   "execution_count": 69,
   "id": "49283613",
   "metadata": {},
   "outputs": [
    {
     "name": "stdout",
     "output_type": "stream",
     "text": [
      "VERB\n"
     ]
    },
    {
     "data": {
      "text/plain": [
       "'v'"
      ]
     },
     "execution_count": 69,
     "metadata": {},
     "output_type": "execute_result"
    }
   ],
   "source": [
    "get_pos('need', preprocess(sometext))"
   ]
  },
  {
   "cell_type": "code",
   "execution_count": 70,
   "id": "d28f3371",
   "metadata": {},
   "outputs": [],
   "source": [
    "def map_synonyms(utterance):\n",
    "    '''return dictionary of words to synonyms for words.\n",
    "    '''\n",
    "    wordpos = [(word, get_pos(word, utterance)) for word in utterance]\n",
    "    return {tup[0] : get_synonyms(tup[0], tup[1]) \n",
    "            for tup in wordpos\n",
    "            if tup[1]!=None}"
   ]
  },
  {
   "cell_type": "code",
   "execution_count": 71,
   "id": "0317fd3d",
   "metadata": {},
   "outputs": [
    {
     "ename": "StopIteration",
     "evalue": "",
     "output_type": "error",
     "traceback": [
      "\u001b[0;31m---------------------------------------------------------------------------\u001b[0m",
      "\u001b[0;31mStopIteration\u001b[0m                             Traceback (most recent call last)",
      "Input \u001b[0;32mIn [71]\u001b[0m, in \u001b[0;36m<cell line: 1>\u001b[0;34m()\u001b[0m\n\u001b[0;32m----> 1\u001b[0m \u001b[43mmap_synonyms\u001b[49m\u001b[43m(\u001b[49m\u001b[43mpreprocess\u001b[49m\u001b[43m(\u001b[49m\u001b[43msometext\u001b[49m\u001b[43m)\u001b[49m\u001b[43m)\u001b[49m\n",
      "Input \u001b[0;32mIn [70]\u001b[0m, in \u001b[0;36mmap_synonyms\u001b[0;34m(utterance)\u001b[0m\n\u001b[1;32m      1\u001b[0m \u001b[38;5;28;01mdef\u001b[39;00m \u001b[38;5;21mmap_synonyms\u001b[39m(utterance):\n\u001b[1;32m      2\u001b[0m     \u001b[38;5;124;03m'''return dictionary of words to synonyms for words.\u001b[39;00m\n\u001b[1;32m      3\u001b[0m \u001b[38;5;124;03m    '''\u001b[39;00m\n\u001b[0;32m----> 4\u001b[0m     wordpos \u001b[38;5;241m=\u001b[39m [(word, get_pos(word, utterance)) \u001b[38;5;28;01mfor\u001b[39;00m word \u001b[38;5;129;01min\u001b[39;00m utterance]\n\u001b[1;32m      5\u001b[0m     \u001b[38;5;28;01mreturn\u001b[39;00m {tup[\u001b[38;5;241m0\u001b[39m] : get_synonyms(tup[\u001b[38;5;241m0\u001b[39m], tup[\u001b[38;5;241m1\u001b[39m]) \n\u001b[1;32m      6\u001b[0m             \u001b[38;5;28;01mfor\u001b[39;00m tup \u001b[38;5;129;01min\u001b[39;00m wordpos\n\u001b[1;32m      7\u001b[0m             \u001b[38;5;28;01mif\u001b[39;00m tup[\u001b[38;5;241m1\u001b[39m]\u001b[38;5;241m!=\u001b[39m\u001b[38;5;28;01mNone\u001b[39;00m}\n",
      "Input \u001b[0;32mIn [70]\u001b[0m, in \u001b[0;36m<listcomp>\u001b[0;34m(.0)\u001b[0m\n\u001b[1;32m      1\u001b[0m \u001b[38;5;28;01mdef\u001b[39;00m \u001b[38;5;21mmap_synonyms\u001b[39m(utterance):\n\u001b[1;32m      2\u001b[0m     \u001b[38;5;124;03m'''return dictionary of words to synonyms for words.\u001b[39;00m\n\u001b[1;32m      3\u001b[0m \u001b[38;5;124;03m    '''\u001b[39;00m\n\u001b[0;32m----> 4\u001b[0m     wordpos \u001b[38;5;241m=\u001b[39m [(word, \u001b[43mget_pos\u001b[49m\u001b[43m(\u001b[49m\u001b[43mword\u001b[49m\u001b[43m,\u001b[49m\u001b[43m \u001b[49m\u001b[43mutterance\u001b[49m\u001b[43m)\u001b[49m) \u001b[38;5;28;01mfor\u001b[39;00m word \u001b[38;5;129;01min\u001b[39;00m utterance]\n\u001b[1;32m      5\u001b[0m     \u001b[38;5;28;01mreturn\u001b[39;00m {tup[\u001b[38;5;241m0\u001b[39m] : get_synonyms(tup[\u001b[38;5;241m0\u001b[39m], tup[\u001b[38;5;241m1\u001b[39m]) \n\u001b[1;32m      6\u001b[0m             \u001b[38;5;28;01mfor\u001b[39;00m tup \u001b[38;5;129;01min\u001b[39;00m wordpos\n\u001b[1;32m      7\u001b[0m             \u001b[38;5;28;01mif\u001b[39;00m tup[\u001b[38;5;241m1\u001b[39m]\u001b[38;5;241m!=\u001b[39m\u001b[38;5;28;01mNone\u001b[39;00m}\n",
      "Input \u001b[0;32mIn [60]\u001b[0m, in \u001b[0;36mget_pos\u001b[0;34m(word, utterance)\u001b[0m\n\u001b[1;32m     15\u001b[0m \u001b[38;5;124;03m'''return the part of speech of the word in the utterance if it is a verb\u001b[39;00m\n\u001b[1;32m     16\u001b[0m \u001b[38;5;124;03mnoun, pronoun, proper noun, adjective, or adverb.\u001b[39;00m\n\u001b[1;32m     17\u001b[0m \u001b[38;5;124;03m'''\u001b[39;00m\n\u001b[1;32m     18\u001b[0m \u001b[38;5;28;01mif\u001b[39;00m word \u001b[38;5;129;01mnot\u001b[39;00m \u001b[38;5;129;01min\u001b[39;00m utterance: \u001b[38;5;28;01mraise\u001b[39;00m \u001b[38;5;167;01mValueError\u001b[39;00m(\u001b[38;5;124m\"\u001b[39m\u001b[38;5;124mError: The word is not in the utterance.\u001b[39m\u001b[38;5;124m\"\u001b[39m)\n\u001b[0;32m---> 19\u001b[0m pos \u001b[38;5;241m=\u001b[39m \u001b[38;5;28;43mnext\u001b[39;49m\u001b[43m(\u001b[49m\u001b[38;5;28;43mfilter\u001b[39;49m\u001b[43m(\u001b[49m\u001b[38;5;28;43;01mlambda\u001b[39;49;00m\u001b[43m \u001b[49m\u001b[43mx\u001b[49m\u001b[43m \u001b[49m\u001b[43m:\u001b[49m\u001b[43m \u001b[49m\u001b[38;5;28;43mstr\u001b[39;49m\u001b[43m(\u001b[49m\u001b[43mx\u001b[49m\u001b[43m[\u001b[49m\u001b[38;5;241;43m0\u001b[39;49m\u001b[43m]\u001b[49m\u001b[43m)\u001b[49m\u001b[38;5;241;43m==\u001b[39;49m\u001b[43mword\u001b[49m\u001b[43m,\u001b[49m\n\u001b[1;32m     20\u001b[0m \u001b[43m                  \u001b[49m\u001b[43m[\u001b[49m\u001b[43m(\u001b[49m\u001b[43mword\u001b[49m\u001b[43m,\u001b[49m\u001b[43m \u001b[49m\u001b[43mword\u001b[49m\u001b[38;5;241;43m.\u001b[39;49m\u001b[43mpos_\u001b[49m\u001b[43m)\u001b[49m\n\u001b[1;32m     21\u001b[0m \u001b[43m                   \u001b[49m\u001b[38;5;28;43;01mfor\u001b[39;49;00m\u001b[43m \u001b[49m\u001b[43mword\u001b[49m\u001b[43m \u001b[49m\u001b[38;5;129;43;01min\u001b[39;49;00m\u001b[43m \u001b[49m\u001b[43mnlp\u001b[49m\u001b[43m(\u001b[49m\u001b[43mutterance\u001b[49m\u001b[43m)\u001b[49m\u001b[43m]\u001b[49m\u001b[43m)\u001b[49m\u001b[43m)\u001b[49m[\u001b[38;5;241m1\u001b[39m]\n\u001b[1;32m     22\u001b[0m \u001b[38;5;28mprint\u001b[39m(pos)\n\u001b[1;32m     23\u001b[0m \u001b[38;5;28;01mif\u001b[39;00m pos \u001b[38;5;129;01min\u001b[39;00m posmap: \n",
      "\u001b[0;31mStopIteration\u001b[0m: "
     ]
    }
   ],
   "source": [
    "map_synonyms(preprocess(sometext))"
   ]
  },
  {
   "cell_type": "code",
   "execution_count": null,
   "id": "85b8ae6e",
   "metadata": {},
   "outputs": [],
   "source": [
    "# list of lists of most common phrases in questions\n",
    "need = ['do i need to', 'must i', 'is it required']\n",
    "frequency = ['how often do i need', 'what is the timeframe for']\n",
    "scheduling = ['when is my', 'on what date', 'when do i see']\n",
    "insurance = ['is this covered', 'will my insurance cover', 'do i need to pay', 'how much will i pay', \n",
    "             'what is my bill']\n",
    "location = ['where is', 'where can i find', 'how can i find', 'i cant find', 'what is the location', \n",
    "            'can i have the location']\n",
    "ability = ['what can i', 'is there anything i can', 'can i']\n",
    "preparation = ['what do i need', 'how do i prepare', 'how can i get ready for', 'what should i bring']\n",
    "forgetfulness = ['what if i forgot', 'i forgot to', 'is it ok if i forgot']\n",
    "explanation = ['what is', 'tell me what is', 'describe', 'i want to understand']\n",
    "phrasebank = [need, \n",
    "              frequency, \n",
    "              scheduling, \n",
    "              insurance, \n",
    "              location, \n",
    "              ability, \n",
    "              preparation, \n",
    "              forgetfulness, \n",
    "              understanding]"
   ]
  },
  {
   "cell_type": "code",
   "execution_count": null,
   "id": "2460434a",
   "metadata": {},
   "outputs": [],
   "source": [
    "# need to generate every possible combination\n",
    "# so need to identify which combination is available and which combination has been tried\n",
    "# so need to also check"
   ]
  },
  {
   "cell_type": "markdown",
   "id": "2bcf75f9",
   "metadata": {},
   "source": [
    "## *Approach 2:* text generation of similar sentences using GANs and/or BERT"
   ]
  },
  {
   "cell_type": "code",
   "execution_count": null,
   "id": "e1f1385a",
   "metadata": {},
   "outputs": [],
   "source": []
  },
  {
   "cell_type": "code",
   "execution_count": null,
   "id": "3b82b273",
   "metadata": {},
   "outputs": [],
   "source": []
  },
  {
   "cell_type": "code",
   "execution_count": null,
   "id": "d8c67f3a",
   "metadata": {},
   "outputs": [],
   "source": []
  },
  {
   "cell_type": "markdown",
   "id": "ffc281b4",
   "metadata": {},
   "source": [
    "## *Approach 3:* embedding question types and running similarity measure (as alternative if there isn't a direct hit)"
   ]
  },
  {
   "cell_type": "code",
   "execution_count": null,
   "id": "de0776aa",
   "metadata": {},
   "outputs": [],
   "source": []
  },
  {
   "cell_type": "code",
   "execution_count": null,
   "id": "0d16a18e",
   "metadata": {},
   "outputs": [],
   "source": []
  },
  {
   "cell_type": "code",
   "execution_count": null,
   "id": "1446a2ef",
   "metadata": {},
   "outputs": [],
   "source": []
  }
 ],
 "metadata": {
  "kernelspec": {
   "display_name": "Python 3 (ipykernel)",
   "language": "python",
   "name": "python3"
  },
  "language_info": {
   "codemirror_mode": {
    "name": "ipython",
    "version": 3
   },
   "file_extension": ".py",
   "mimetype": "text/x-python",
   "name": "python",
   "nbconvert_exporter": "python",
   "pygments_lexer": "ipython3",
   "version": "3.9.13"
  }
 },
 "nbformat": 4,
 "nbformat_minor": 5
}
